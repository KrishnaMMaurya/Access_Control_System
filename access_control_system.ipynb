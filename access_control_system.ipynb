{
 "cells": [
  {
   "cell_type": "code",
   "execution_count": 1,
   "id": "e8f25546",
   "metadata": {},
   "outputs": [],
   "source": [
    "import mysql.connector as con\n",
    "from mysql.connector.errors import ProgrammingError , Error\n",
    "#import core.InsertData as Insert"
   ]
  },
  {
   "cell_type": "code",
   "execution_count": 2,
   "id": "fb182bb4",
   "metadata": {},
   "outputs": [],
   "source": [
    "def CheckDatabase():\n",
    "    \"\"\"\n",
    "    CheckDatabase() -> Checks if the Database required Exists or not\n",
    "    Parameters -> None\n",
    "    \"\"\"\n",
    "    print(\"Checking Database Requriments\")\n",
    "    db = con.connect(host=\"localhost\", user= \"root\", passwd = \"Ankit@875\")\n",
    "    cur = db.cursor()\n",
    "    result = None\n",
    "    \n",
    "    try:\n",
    "        cur.execute(\"use Access_Control_System\")\n",
    "    except ProgrammingError:\n",
    "        print(\"Database not exist!\")\n",
    "        result = False\n",
    "    else:\n",
    "        result = True\n",
    "        \n",
    "    if result is True:\n",
    "        print(\"Database Exists!!\")\n",
    "    else:\n",
    "        print(\"Creating Table with the requried tables....\")\n",
    "        print(\"Please be patient...\")\n",
    "        cur.execute(\"create database access_control_system\")\n",
    "        cur.execute(\"use access_control_system\")\n",
    "    cur.close()\n",
    "    db.close()    "
   ]
  },
  {
   "cell_type": "code",
   "execution_count": 4,
   "id": "4055bf33",
   "metadata": {},
   "outputs": [],
   "source": [
    "def CreateTable():\n",
    "    \"\"\"\n",
    "    CheckCreateTable() -> Checks if the Table required Exists or not\n",
    "    Parameters -> None\n",
    "    \"\"\"\n",
    "    print(\"Checking tables\")\n",
    "    db = con.connect(host=\"localhost\", user= \"root\", password = \"Ankit@875\",database=\"access_control_system\")\n",
    "    cur = db.cursor()\n",
    "    \n",
    "    try:\n",
    "        cur.execute(\"create table emp_details(BADGE_NUMBER CHAR(8) NOT NULL, FIRST_NAME VARCHAR(100) NOT NULL, LAST_NAME VARCHAR(100) NOT NULL, EMPLOYEE_ID INT NOT NULL, GLOBAL_ID VARCHAR(8) NOT NULL UNIQUE, LOCATION VARCHAR(30) NOT NULL, OPERATORS_COMMENTS VARCHAR(500), CARD_NUMBER int NOT NULL, PRIMARY KEY(CARD_NUMBER));\")\n",
    "        print(\"table emp_details successfully created!\")\n",
    "    except ProgrammingError:\n",
    "        print(\"Table emp_details already exist!\")\n",
    "   \n",
    "        \n",
    "    try:    \n",
    "        cur.execute(\"\"\"CREATE TABLE card_details (\n",
    "  CARD_NUMBER int NOT NULL,\n",
    "  date_of_issue TIMESTAMP NOT NULL DEFAULT CURRENT_TIMESTAMP,\n",
    "  End_date DATETIME DEFAULT '2050-12-31 23:59:59' not null,\n",
    "  Last_change TIMESTAMP NOT NULL DEFAULT CURRENT_TIMESTAMP,\n",
    "  project_clearance VARCHAR(20) not null,\n",
    "  card_status VARCHAR(20) NOT NULL,\n",
    "  FOREIGN KEY (CARD_NUMBER) REFERENCES emp_details(CARD_NUMBER)\n",
    ");\n",
    "\"\"\")\n",
    "        print(\"table emp_details successfully created!\")  \n",
    "    except ProgrammingError:\n",
    "        print(\"Table card_details already exist!\")\n",
    "    \n",
    "        \n",
    "    cur.close()\n",
    "    db.close()         "
   ]
  },
  {
   "cell_type": "code",
   "execution_count": 5,
   "id": "af41d01b",
   "metadata": {},
   "outputs": [
    {
     "name": "stdout",
     "output_type": "stream",
     "text": [
      "Checking Database Requriments\n",
      "Database Exists!!\n",
      "Checking tables\n",
      "Table emp_details already exist!\n",
      "Table card_details already exist!\n"
     ]
    }
   ],
   "source": [
    "if __name__ == \"__main__\":\n",
    "    CheckDatabase()\n",
    "    CreateTable()"
   ]
  },
  {
   "cell_type": "code",
   "execution_count": 6,
   "id": "1752b5b1",
   "metadata": {
    "scrolled": true
   },
   "outputs": [
    {
     "data": {
      "text/plain": [
       "'if __name__ == \"__main__\":\\n    emp_details()\\n    card_details()'"
      ]
     },
     "execution_count": 6,
     "metadata": {},
     "output_type": "execute_result"
    }
   ],
   "source": [
    "import mysql.connector\n",
    "import datetime\n",
    "\n",
    "# Establish a connection to the database\n",
    "db = con.connect(host=\"localhost\", user= \"root\", password = \"Ankit@875\",database=\"access_control_system\")\n",
    "cur = db.cursor()\n",
    "\n",
    "def emp_details():\n",
    "    BN = input(\"BADGE_NUMBER :\")\n",
    "    FN = input(\"FIRST_NAME : \")\n",
    "    LN = input(\"LAST_NAME : \")\n",
    "    EI = input(\"EMPLOYEE_ID : \")\n",
    "    GI = input(\"GLOBAL_ID : \")\n",
    "    L = input(\"LOCATION : \")\n",
    "    CO = input(\"COMMENTS : \")\n",
    "    CN = input(\"CARD_NUMBER : \")\n",
    "    data = (BN,FN,LN,EI,GI,L,CO,CN)\n",
    "    sql = \"insert into emp_details values(%s,%s,%s,%s,%s,%s,%s,%s)\"\n",
    "    cur = db.cursor()\n",
    "    cur.execute(sql, data)\n",
    "    db.commit()\n",
    "    print(\"Data Entered Successfully\")\n",
    "    \n",
    "    \n",
    "def card_details():\n",
    "    CN = input(\"CARD_NUMBER : \")\n",
    "    PC = input(\"project_clearence : \")\n",
    "    CS = input(\"card_status : \")\n",
    "    data = (CN, datetime.datetime.now(), datetime.datetime(2050, 12, 31, 23, 59, 59), datetime.datetime.now(), PC, CS)\n",
    "    sql2 = \"insert into card_details (CARD_NUMBER, date_of_issue, End_date, Last_change, project_clearance, card_status) values (%s, %s, %s, %s, %s, %s)\"\n",
    "    cur = db.cursor()\n",
    "    cur.execute(sql2, data)\n",
    "    db.commit()\n",
    "    print(\"Successfully Card Added\")\n"
   ]
  },
  {
   "cell_type": "code",
   "execution_count": 7,
   "id": "d4be4059",
   "metadata": {},
   "outputs": [],
   "source": [
    "db = con.connect(host=\"localhost\", user= \"root\", password = \"Ankit@875\",database=\"access_control_system\")\n",
    "cur = db.cursor()\n",
    "def Add_New():\n",
    "    emp_details()\n",
    "    card_details()"
   ]
  },
  {
   "cell_type": "code",
   "execution_count": 12,
   "id": "c913ebbb",
   "metadata": {},
   "outputs": [],
   "source": [
    "db = con.connect(host=\"localhost\", user= \"root\", password = \"Ankit@875\",database=\"access_control_system\")\n",
    "cur = db.cursor()\n",
    "def search_employee_data(search_term):\n",
    "    cur = db.cursor()\n",
    "    sql = \"SELECT * FROM emp_details JOIN card_details ON emp_details.CARD_NUMBER = card_details.CARD_NUMBER WHERE emp_details.BADGE_NUMBER = %s OR emp_details.FIRST_NAME = %s OR emp_details.LAST_NAME = %s OR emp_details.EMPLOYEE_ID = %s OR emp_details.GLOBAL_ID = %s OR emp_details.CARD_NUMBER = %s\"\n",
    "    cur.execute(sql, (search_term, search_term, search_term, search_term, search_term, search_term))\n",
    "    result = cur.fetchone()\n",
    "    if result:\n",
    "        return result\n",
    "    else:\n",
    "        print(\"No data found for the given search term\")\n",
    "\n",
    "    "
   ]
  },
  {
   "cell_type": "code",
   "execution_count": 20,
   "id": "823bca09",
   "metadata": {},
   "outputs": [
    {
     "name": "stdout",
     "output_type": "stream",
     "text": [
      "1. Add_New \n",
      "2. Search \n",
      "Choice : 2\n",
      "Enter Search input Ankita\n",
      "('SD123456', 'Ankita', 'Rajak', 90908, '909090', 'HYD', 'Beautifull girl', 989898, 989898, datetime.datetime(2023, 3, 9, 22, 41, 39), datetime.datetime(2050, 12, 31, 23, 59, 59), datetime.datetime(2023, 3, 9, 22, 41, 39), 'ABC', 'Active')\n"
     ]
    }
   ],
   "source": [
    "if __name__ == \"__main__\":\n",
    "    print(\"1. Add_New \")\n",
    "    print(\"2. Search \")\n",
    "    c = int(input(\"Choice : \"))\n",
    "    if c == 1:\n",
    "        Add_New()\n",
    "    elif c == 2:\n",
    "        search_term = str(input(\"Enter Search input \"))\n",
    "        \n",
    "        result =search_employee_data(search_term)\n",
    "        print(result)\n",
    "    else:\n",
    "        print(\"Enter Correct Choice\")"
   ]
  },
  {
   "cell_type": "markdown",
   "id": "49348749",
   "metadata": {},
   "source": [
    "##### "
   ]
  }
 ],
 "metadata": {
  "kernelspec": {
   "display_name": "Python 3 (ipykernel)",
   "language": "python",
   "name": "python3"
  },
  "language_info": {
   "codemirror_mode": {
    "name": "ipython",
    "version": 3
   },
   "file_extension": ".py",
   "mimetype": "text/x-python",
   "name": "python",
   "nbconvert_exporter": "python",
   "pygments_lexer": "ipython3",
   "version": "3.9.12"
  }
 },
 "nbformat": 4,
 "nbformat_minor": 5
}
