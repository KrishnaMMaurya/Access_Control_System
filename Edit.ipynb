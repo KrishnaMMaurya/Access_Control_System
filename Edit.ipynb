{
 "cells": [
  {
   "cell_type": "code",
   "execution_count": null,
   "id": "217ae559",
   "metadata": {},
   "outputs": [],
   "source": [
    "def Edit(card_number, field_name, new_value):\n",
    "    # connect to MySQL database\n",
    "    db = con.connect(host=\" \", user= \"  \", password = \"  \",database=\"access_control_system\")\n",
    "    cur = db.cursor()\n",
    "\n",
    "    # create SQL statement to update employee details\n",
    "    sql_emp = f\"UPDATE emp_details SET {field_name} = '{new_value}' WHERE CARD_NUMBER = {card_number}\"\n",
    "\n",
    "    # create SQL statement to update card details\n",
    "    sql_card = f\"UPDATE card_details SET Last_change = CURRENT_TIMESTAMP WHERE CARD_NUMBER = {card_number}\"\n",
    "\n",
    "    try:\n",
    "        # execute SQL statements\n",
    "        cur.execute(sql_emp)\n",
    "        cur.execute(sql_card)\n",
    "\n",
    "        # commit changes to database\n",
    "        db.commit()\n",
    "\n",
    "        print(f\"{cur.rowcount} records updated successfully.\")\n",
    "    except mysql.connector.Error as error:\n",
    "        # rollback if there's an error\n",
    "        db.rollback()\n",
    "        print(\"Failed to update record: {}\".format(error))\n",
    "    finally:\n",
    "        # close database connection\n",
    "        cur.close()\n",
    "        db.close()\n"
   ]
  }
 ],
 "metadata": {
  "kernelspec": {
   "display_name": "Python 3 (ipykernel)",
   "language": "python",
   "name": "python3"
  },
  "language_info": {
   "codemirror_mode": {
    "name": "ipython",
    "version": 3
   },
   "file_extension": ".py",
   "mimetype": "text/x-python",
   "name": "python",
   "nbconvert_exporter": "python",
   "pygments_lexer": "ipython3",
   "version": "3.9.12"
  }
 },
 "nbformat": 4,
 "nbformat_minor": 5
}
