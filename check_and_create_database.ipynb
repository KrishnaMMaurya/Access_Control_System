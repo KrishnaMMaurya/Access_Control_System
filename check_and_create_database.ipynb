{
 "cells": [
  {
   "cell_type": "code",
   "execution_count": 1,
   "id": "f2e348f0",
   "metadata": {},
   "outputs": [],
   "source": [
    "import mysql.connector as con\n",
    "from mysql.connector.errors import ProgrammingError , Error"
   ]
  },
  {
   "cell_type": "code",
   "execution_count": 2,
   "id": "e71448a5",
   "metadata": {},
   "outputs": [],
   "source": [
    "def CreateDatabase():\n",
    "    \"\"\"\n",
    "    CheckDatabase() -> Checks if the Database required Exists or not\n",
    "    Parameters -> None\n",
    "    \"\"\"\n",
    "    print(\"Checking Database Requriments\")\n",
    "    db = con.connect(host=\"  \", user= \"  \", passwd = \"  \")\n",
    "    cur = db.cursor()\n",
    "    result = None\n",
    "    \n",
    "    try:\n",
    "        cur.execute(\"use Access_Control_System\")\n",
    "    except ProgrammingError:\n",
    "        print(\"Database not exist!\")\n",
    "        result = False\n",
    "    else:\n",
    "        result = True\n",
    "        \n",
    "    if result is True:\n",
    "        print(\"Database Exists!!\")\n",
    "    else:\n",
    "        print(\"Creating database..\")\n",
    "        print(\"Please be patient...\")\n",
    "        cur.execute(\"create database access_control_system\")\n",
    "        cur.execute(\"use access_control_system\")\n",
    "    cur.close()\n",
    "    db.close()    "
   ]
  }
 ],
 "metadata": {
  "kernelspec": {
   "display_name": "Python 3 (ipykernel)",
   "language": "python",
   "name": "python3"
  },
  "language_info": {
   "codemirror_mode": {
    "name": "ipython",
    "version": 3
   },
   "file_extension": ".py",
   "mimetype": "text/x-python",
   "name": "python",
   "nbconvert_exporter": "python",
   "pygments_lexer": "ipython3",
   "version": "3.9.12"
  }
 },
 "nbformat": 4,
 "nbformat_minor": 5
}
