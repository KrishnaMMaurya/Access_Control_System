{
 "cells": [
  {
   "cell_type": "code",
   "execution_count": null,
   "id": "34820b0b",
   "metadata": {},
   "outputs": [],
   "source": [
    "def delete(card_number):\n",
    "    # Establish a connection to the MySQL database\n",
    "    db = con.connect(host=\"  \", user= \"  \", password = \"  \",database=\"access_control_system\")\n",
    "    cur = db.cursor()\n",
    "\n",
    "    try:\n",
    "        # Delete the card details from the card_details table\n",
    "        card_query = f\"DELETE FROM card_details WHERE CARD_NUMBER = {card_number}\"\n",
    "        cur.execute(card_query)\n",
    "\n",
    "        # Delete the employee details from the emp_details table\n",
    "        emp_query = f\"DELETE FROM emp_details WHERE CARD_NUMBER = {card_number}\"\n",
    "        cur.execute(emp_query)\n",
    "\n",
    "        # Commit the changes to the database\n",
    "        db.commit()\n",
    "\n",
    "        print(f\"All details for card number {card_number} have been deleted.\")\n",
    "\n",
    "    except mysql.connector.Error as error:\n",
    "        # Handle any errors that may occur\n",
    "        print(\"Error deleting details: {}\".format(error))\n",
    "\n",
    "    finally:\n",
    "        # Close the database connection\n",
    "        if db.is_connected():\n",
    "            cur.close()\n",
    "            db.close()"
   ]
  }
 ],
 "metadata": {
  "kernelspec": {
   "display_name": "Python 3 (ipykernel)",
   "language": "python",
   "name": "python3"
  },
  "language_info": {
   "codemirror_mode": {
    "name": "ipython",
    "version": 3
   },
   "file_extension": ".py",
   "mimetype": "text/x-python",
   "name": "python",
   "nbconvert_exporter": "python",
   "pygments_lexer": "ipython3",
   "version": "3.9.12"
  }
 },
 "nbformat": 4,
 "nbformat_minor": 5
}
