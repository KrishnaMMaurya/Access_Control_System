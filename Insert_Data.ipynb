{
 "cells": [
  {
   "cell_type": "code",
   "execution_count": null,
   "id": "70183099",
   "metadata": {},
   "outputs": [],
   "source": [
    "import mysql.connector\n",
    "import datetime\n",
    "\n",
    "# Establish a connection to the database\n",
    "db = con.connect(host=\" \", user= \" \", password = \" \",database=\"access_control_system\")\n",
    "cur = db.cursor()\n",
    "\n",
    "def emp_details():\n",
    "    BN = input(\"BADGE_NUMBER :\")\n",
    "    FN = input(\"FIRST_NAME : \")\n",
    "    LN = input(\"LAST_NAME : \")\n",
    "    EI = input(\"EMPLOYEE_ID : \")\n",
    "    GI = input(\"GLOBAL_ID : \")\n",
    "    L = input(\"LOCATION : \")\n",
    "    CO = input(\"COMMENTS : \")\n",
    "    CN = input(\"CARD_NUMBER : \")\n",
    "    data = (BN,FN,LN,EI,GI,L,CO,CN)\n",
    "    sql = \"insert into emp_details values(%s,%s,%s,%s,%s,%s,%s,%s)\"\n",
    "    cur = db.cursor()\n",
    "    cur.execute(sql, data)\n",
    "    db.commit()\n",
    "    print(\"Data Entered Successfully\")\n",
    "    \n",
    "    \n",
    "def card_details():\n",
    "    CN = input(\"CARD_NUMBER : \")\n",
    "    PC = input(\"project_clearence : \")\n",
    "    CS = input(\"card_status : \")\n",
    "    data = (CN, datetime.datetime.now(), datetime.datetime(2050, 12, 31, 23, 59, 59), datetime.datetime.now(), PC, CS)\n",
    "    sql2 = \"insert into card_details (CARD_NUMBER, date_of_issue, End_date, Last_change, project_clearance, card_status) values (%s, %s, %s, %s, %s, %s)\"\n",
    "    cur = db.cursor()\n",
    "    cur.execute(sql2, data)\n",
    "    db.commit()\n",
    "    print(\"Successfully Card Added\")\n"
   ]
  }
 ],
 "metadata": {
  "kernelspec": {
   "display_name": "Python 3 (ipykernel)",
   "language": "python",
   "name": "python3"
  },
  "language_info": {
   "codemirror_mode": {
    "name": "ipython",
    "version": 3
   },
   "file_extension": ".py",
   "mimetype": "text/x-python",
   "name": "python",
   "nbconvert_exporter": "python",
   "pygments_lexer": "ipython3",
   "version": "3.9.12"
  }
 },
 "nbformat": 4,
 "nbformat_minor": 5
}
