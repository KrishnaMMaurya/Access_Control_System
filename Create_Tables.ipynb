{
 "cells": [
  {
   "cell_type": "code",
   "execution_count": null,
   "id": "ac350f73",
   "metadata": {},
   "outputs": [],
   "source": [
    "import mysql.connector as con\n",
    "from mysql.connector.errors import ProgrammingError , Error\n",
    "\n",
    "def CreateTable():\n",
    "    \"\"\"\n",
    "    CheckCreateTable() -> Checks if the Table required Exists or not\n",
    "    Parameters -> None\n",
    "    \"\"\"\n",
    "    print(\"Checking tables\")\n",
    "    db = con.connect(host=\"  \", user= \"   \", password = \"  \",database=\"access_control_system\")\n",
    "    cur = db.cursor()\n",
    "    \n",
    "    try:\n",
    "        cur.execute(\"create table emp_details(BADGE_NUMBER CHAR(8) NOT NULL, FIRST_NAME VARCHAR(100) NOT NULL, LAST_NAME VARCHAR(100) NOT NULL, EMPLOYEE_ID INT NOT NULL, GLOBAL_ID VARCHAR(8) NOT NULL UNIQUE, LOCATION VARCHAR(30) NOT NULL, OPERATORS_COMMENTS VARCHAR(500), CARD_NUMBER int NOT NULL, PRIMARY KEY(CARD_NUMBER));\")\n",
    "        print(\"table emp_details successfully created!\")\n",
    "    except ProgrammingError:\n",
    "        print(\"Table emp_details already exist!\")\n",
    "   \n",
    "        \n",
    "    try:    \n",
    "        cur.execute(\"\"\"CREATE TABLE card_details (\n",
    "  CARD_NUMBER int NOT NULL,\n",
    "  date_of_issue TIMESTAMP NOT NULL DEFAULT CURRENT_TIMESTAMP,\n",
    "  End_date DATETIME DEFAULT '2050-12-31 23:59:59' not null,\n",
    "  Last_change TIMESTAMP NOT NULL DEFAULT CURRENT_TIMESTAMP,\n",
    "  project_clearance VARCHAR(20) not null,\n",
    "  card_status VARCHAR(20) NOT NULL,\n",
    "  FOREIGN KEY (CARD_NUMBER) REFERENCES emp_details(CARD_NUMBER)\n",
    ");\n",
    "\"\"\")\n",
    "        print(\"table emp_details successfully created!\")  \n",
    "    except ProgrammingError:\n",
    "        print(\"Table card_details already exist!\")\n",
    "    \n",
    "        \n",
    "    cur.close()\n",
    "    db.close()         "
   ]
  }
 ],
 "metadata": {
  "kernelspec": {
   "display_name": "Python 3 (ipykernel)",
   "language": "python",
   "name": "python3"
  },
  "language_info": {
   "codemirror_mode": {
    "name": "ipython",
    "version": 3
   },
   "file_extension": ".py",
   "mimetype": "text/x-python",
   "name": "python",
   "nbconvert_exporter": "python",
   "pygments_lexer": "ipython3",
   "version": "3.9.12"
  }
 },
 "nbformat": 4,
 "nbformat_minor": 5
}
