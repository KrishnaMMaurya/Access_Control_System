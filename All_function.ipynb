{
 "cells": [
  {
   "cell_type": "code",
   "execution_count": null,
   "id": "177200e1",
   "metadata": {},
   "outputs": [],
   "source": [
    "db = con.connect(host=\"  \", user= \"  \", password = \"  \",database=\"access_control_system\")\n",
    "cur = db.cursor()\n",
    "def Add_New():\n",
    "    emp_details()\n",
    "    card_details()"
   ]
  },
  {
   "cell_type": "code",
   "execution_count": null,
   "id": "acbaaa4c",
   "metadata": {},
   "outputs": [],
   "source": [
    "if __name__ == \"__main__\":\n",
    "    print(\"1. Add_New \")\n",
    "    print(\"2. Search \")\n",
    "    print(\"3. Edit \")\n",
    "    print(\"4. Delete \")\n",
    "    c = int(input(\"Choice : \"))\n",
    "    if c == 1:\n",
    "        Add_New()\n",
    "    elif c == 2:\n",
    "        search_term = str(input(\"Enter Search input \"))\n",
    "        \n",
    "        result =search_employee_data(search_term)\n",
    "        print(result)\n",
    "    elif c == 3:\n",
    "        edit = str(input(\"1. Enter Card Number 2. Enter Updating Feild Name 3. Enter New Value\"))\n",
    "        result = Edit(card_number, field_name, new_value)\n",
    "        print(input())\n",
    "    elif c == 4:\n",
    "        card_number = str(input(\"Enter card number for delete details \"))\n",
    "        \n",
    "        result =delete(card_number)\n",
    "    else:\n",
    "        print(\"Enter Correct Choice\")"
   ]
  }
 ],
 "metadata": {
  "kernelspec": {
   "display_name": "Python 3 (ipykernel)",
   "language": "python",
   "name": "python3"
  },
  "language_info": {
   "codemirror_mode": {
    "name": "ipython",
    "version": 3
   },
   "file_extension": ".py",
   "mimetype": "text/x-python",
   "name": "python",
   "nbconvert_exporter": "python",
   "pygments_lexer": "ipython3",
   "version": "3.9.12"
  }
 },
 "nbformat": 4,
 "nbformat_minor": 5
}
